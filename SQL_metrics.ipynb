{
 "cells": [
  {
   "cell_type": "markdown",
   "id": "e0f772a1",
   "metadata": {},
   "source": [
    "### <b>SQL</b> \n",
    "\n",
    "__По таблице default.peas определим количество усердных учеников образовательных курсов.__ \n",
    "________________________"
   ]
  },
  {
   "cell_type": "code",
   "execution_count": 1,
   "id": "5483a5cd",
   "metadata": {},
   "outputs": [],
   "source": [
    "import pandahouse as ph"
   ]
  },
  {
   "cell_type": "code",
   "execution_count": 3,
   "id": "58e1d343",
   "metadata": {},
   "outputs": [
    {
     "data": {
      "text/html": [
       "<div>\n",
       "<style scoped>\n",
       "    .dataframe tbody tr th:only-of-type {\n",
       "        vertical-align: middle;\n",
       "    }\n",
       "\n",
       "    .dataframe tbody tr th {\n",
       "        vertical-align: top;\n",
       "    }\n",
       "\n",
       "    .dataframe thead th {\n",
       "        text-align: right;\n",
       "    }\n",
       "</style>\n",
       "<table border=\"1\" class=\"dataframe\">\n",
       "  <thead>\n",
       "    <tr style=\"text-align: right;\">\n",
       "      <th></th>\n",
       "      <th>assiduous_student</th>\n",
       "    </tr>\n",
       "  </thead>\n",
       "  <tbody>\n",
       "    <tr>\n",
       "      <th>0</th>\n",
       "      <td>136</td>\n",
       "    </tr>\n",
       "  </tbody>\n",
       "</table>\n",
       "</div>"
      ],
      "text/plain": [
       "   assiduous_student\n",
       "0                136"
      ]
     },
     "execution_count": 3,
     "metadata": {},
     "output_type": "execute_result"
    }
   ],
   "source": [
    "# подключение к database clickhouse\n",
    "connection_default = {'host' : 'http://clickhouse.lab.karpov.courses',\n",
    "                      'database'  : 'default',\n",
    "                      'user' :'student', \n",
    "                      'password' : 'dpo_python_2020'\n",
    "                     }\n",
    "\n",
    "# Запрос определения усердных учеников\n",
    "task_1 = '''\n",
    "SELECT\n",
    "    COUNT(DISTINCT(st_id)) as assiduous_student\n",
    "FROM(\n",
    "    SELECT \n",
    "        st_id, \n",
    "        SUM(correct) as correctly_solved\n",
    "    FROM peas\n",
    "    WHERE MONTH(timest) = (SELECT MAX(MONTH(timest)) as timest FROM peas)\n",
    "    GROUP BY st_id\n",
    "    HAVING correctly_solved >= 20)\n",
    "'''\n",
    "task_2_1 = ph.read_clickhouse(query=task_1, connection=connection_default)\n",
    "task_2_1"
   ]
  },
  {
   "cell_type": "markdown",
   "id": "11e2a7bc",
   "metadata": {},
   "source": [
    "__Количество решений заданий в день на образовательной платформе ограничено, чтобы получить доступ к неограниченному количеству заданий в определенной дисциплине, необходимо приобрести подписку. Наша команда провела эксперимент, где был протестирован новый экран оплаты.__\n",
    "\n",
    "__Для анализа нашего эксперемента рассмотрим метрики тестовой и контрольной группы:__ \n",
    "________________________\n",
    "\n",
    " - ARPU \n",
    " - ARPAU \n",
    " - CR в покупку \n",
    " - СR активного пользователя в покупку \n",
    " \n",
    " Активным будем считать пользователя, который за все время решил больше 10 задач правильно в любых дисциплинах.\n",
    " - CR пользователя из активности по математике в покупку курса по математике\n",
    " \n",
    " Активным по математики будем считать пользователя, который за все время решил больше 2 и более задач правильно по математике.\n",
    " - ARPU считается относительно всех пользователей, попавших в группы."
   ]
  },
  {
   "cell_type": "code",
   "execution_count": 4,
   "id": "0c2a606c",
   "metadata": {},
   "outputs": [
    {
     "data": {
      "text/html": [
       "<div>\n",
       "<style scoped>\n",
       "    .dataframe tbody tr th:only-of-type {\n",
       "        vertical-align: middle;\n",
       "    }\n",
       "\n",
       "    .dataframe tbody tr th {\n",
       "        vertical-align: top;\n",
       "    }\n",
       "\n",
       "    .dataframe thead th {\n",
       "        text-align: right;\n",
       "    }\n",
       "</style>\n",
       "<table border=\"1\" class=\"dataframe\">\n",
       "  <thead>\n",
       "    <tr style=\"text-align: right;\">\n",
       "      <th></th>\n",
       "      <th>test_grp</th>\n",
       "      <th>ARPU</th>\n",
       "      <th>ARPAU</th>\n",
       "      <th>CR</th>\n",
       "      <th>CR_active</th>\n",
       "      <th>CR_active_math</th>\n",
       "    </tr>\n",
       "  </thead>\n",
       "  <tbody>\n",
       "    <tr>\n",
       "      <th>0</th>\n",
       "      <td>control</td>\n",
       "      <td>4540.98</td>\n",
       "      <td>10393.70</td>\n",
       "      <td>4.92</td>\n",
       "      <td>11.02</td>\n",
       "      <td>10.20</td>\n",
       "    </tr>\n",
       "    <tr>\n",
       "      <th>1</th>\n",
       "      <td>pilot</td>\n",
       "      <td>11508.47</td>\n",
       "      <td>29739.58</td>\n",
       "      <td>10.85</td>\n",
       "      <td>26.04</td>\n",
       "      <td>14.29</td>\n",
       "    </tr>\n",
       "  </tbody>\n",
       "</table>\n",
       "</div>"
      ],
      "text/plain": [
       "  test_grp      ARPU     ARPAU     CR  CR_active  CR_active_math\n",
       "0  control   4540.98  10393.70   4.92      11.02           10.20\n",
       "1    pilot  11508.47  29739.58  10.85      26.04           14.29"
      ]
     },
     "execution_count": 4,
     "metadata": {},
     "output_type": "execute_result"
    }
   ],
   "source": [
    "# Запрос определения метрик:\n",
    "task_2 = '''\n",
    "SELECT f.test_grp,\n",
    "       ROUND(sum_all_money/count_all, 2) ARPU, -- выводим ARPU\n",
    "       ROUND(sum_active_money/count_active_all, 2) ARPAU, -- выводим ARPAU\n",
    "       ROUND(count_all_payed*100/count_all, 2) CR, -- выводим CR в покупку\n",
    "       ROUND(count_all_payed_active*100/count_active_all, 2) CR_active, -- выводим CR активного пользователя в покупку\n",
    "       ROUND(count_all_payed_active_math*100/count_active_math, 2) CR_active_math -- выводим CR пользователя из активности по математике (subject = ’math’) в покупку курса по математике\n",
    "FROM\n",
    "    (\n",
    "    SELECT s.test_grp AS test_grp, -- подсчитываем нужные для рассчёта значения\n",
    "           COUNT(*) count_all,\n",
    "           COUNT(IF(c.check=1, 1, null)) count_all_payed,\n",
    "           COUNT(IF(c.check=1, p.count_active, null)) count_all_payed_active,\n",
    "           COUNT(IF(c.check=1, p.count_active_math, null)) count_all_payed_active_math,\n",
    "           SUM(c.sum_money) sum_all_money,\n",
    "           SUM(IF(p.count_active=1,c.sum_money,0)) sum_active_money,\n",
    "           SUM(c.count_math_payed) count_math_payed,\n",
    "           SUM(c.sum_math_payed) sum_math_money,\n",
    "           SUM(p.count_active) count_active_all,\n",
    "           SUM(p.count_active_math) count_active_math\n",
    "    FROM studs s\n",
    "    LEFT JOIN -- присоединяем таблицу final_project_check с информацией покупки\n",
    "            (\n",
    "            SELECT c.st_id,\n",
    "                   1 check, -- \"1\" совершена покупка\n",
    "                   SUM(c.money) sum_money,\n",
    "                   MAX(IF(c.subject = 'Math', 1, 0)) count_math_payed,\n",
    "                   SUM(IF(c.subject = 'Math', c.money, 0)) sum_math_payed\n",
    "                  \n",
    "            FROM final_project_check c\n",
    "            GROUP BY c.st_id\n",
    "            ) c\n",
    "    ON (c.st_id = s.st_id)\n",
    "    LEFT JOIN  -- присоединяем таблицу peas с информацией решений заданий\n",
    "            (\n",
    "            SELECT p.st_id,\n",
    "                   1 check,-- \"1\" совершена покупка\n",
    "                   IF(COUNT(*)>10,1,NULL) count_active, -- отбираем активных (решивших больше 10 задач правильно в любых дисциплинах)            \n",
    "                   IF(COUNT(IF(p.subject = 'Math', 1, NULL)) >= 2, 1, NULL) count_active_math -- отбираем активных по математике (решивших >= 2 задач правильно по математике)\n",
    "            FROM peas p\n",
    "            WHERE p.correct = 1 -- условие, что задача решена правильно\n",
    "            GROUP BY p.st_id\n",
    "            ) p \n",
    "    ON (p.st_id = s.st_id)\n",
    "    GROUP BY s.test_grp\n",
    "    ) f\n",
    "'''\n",
    "task_2_2 = ph.read_clickhouse(query=task_2, connection=connection_default)\n",
    "task_2_2"
   ]
  }
 ],
 "metadata": {
  "kernelspec": {
   "display_name": "Python 3 (ipykernel)",
   "language": "python",
   "name": "python3"
  },
  "language_info": {
   "codemirror_mode": {
    "name": "ipython",
    "version": 3
   },
   "file_extension": ".py",
   "mimetype": "text/x-python",
   "name": "python",
   "nbconvert_exporter": "python",
   "pygments_lexer": "ipython3",
   "version": "3.11.4"
  }
 },
 "nbformat": 4,
 "nbformat_minor": 5
}
